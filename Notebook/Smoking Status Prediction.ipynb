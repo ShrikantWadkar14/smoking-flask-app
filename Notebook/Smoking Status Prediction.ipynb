{
 "cells": [
  {
   "cell_type": "code",
   "execution_count": 18,
   "id": "13be1f67",
   "metadata": {},
   "outputs": [],
   "source": [
    "import pandas as pd\n",
    "from sklearn.preprocessing import StandardScaler"
   ]
  },
  {
   "cell_type": "code",
   "execution_count": 4,
   "id": "8174065e",
   "metadata": {},
   "outputs": [],
   "source": [
    "train = pd.read_csv('train.csv')\n",
    "test = pd.read_csv('test.csv')\n",
    "sample_submission = pd.read_csv('sample_submission.csv')"
   ]
  },
  {
   "cell_type": "code",
   "execution_count": 5,
   "id": "ac61b5c7",
   "metadata": {},
   "outputs": [
    {
     "name": "stdout",
     "output_type": "stream",
     "text": [
      "   id   age  height(cm)  weight(kg)  waist(cm)  eyesight(left)  \\\n",
      "0   0  35.0       175.0        75.0       83.0             0.8   \n",
      "1   1  40.0       150.0        50.0       67.0             1.2   \n",
      "2   2  40.0       170.0        65.0       75.0             1.0   \n",
      "3   3  30.0       170.0        75.0       83.0             1.5   \n",
      "4   4  45.0       175.0        85.0       99.0             0.5   \n",
      "\n",
      "   eyesight(right)  hearing(left)  hearing(right)  systolic  ...   HDL    LDL  \\\n",
      "0              0.8            1.0             1.0     113.0  ...  47.0  114.0   \n",
      "1              1.2            1.0             1.0     118.0  ...  66.0  130.0   \n",
      "2              1.5            1.0             1.0     122.0  ...  58.0  100.0   \n",
      "3              1.2            1.0             1.0     118.0  ...  75.0  111.0   \n",
      "4              1.0            1.0             1.0     129.0  ...  52.0  101.0   \n",
      "\n",
      "   hemoglobin  Urine protein  serum creatinine   AST   ALT   Gtp  \\\n",
      "0        15.5            1.0               1.1  17.0  15.0  16.0   \n",
      "1        13.9            1.0               0.6  15.0  11.0  13.0   \n",
      "2        15.4            1.0               1.0  16.0  17.0  34.0   \n",
      "3        15.3            1.0               1.0  22.0  24.0  45.0   \n",
      "4        15.7            1.0               1.1  22.0  22.0  43.0   \n",
      "\n",
      "   dental caries  smoking  \n",
      "0            0.0      1.0  \n",
      "1            0.0      0.0  \n",
      "2            0.0      1.0  \n",
      "3            0.0      1.0  \n",
      "4            0.0      1.0  \n",
      "\n",
      "[5 rows x 24 columns]\n"
     ]
    }
   ],
   "source": [
    "print(train.head())"
   ]
  },
  {
   "cell_type": "code",
   "execution_count": 6,
   "id": "8fa007f2",
   "metadata": {},
   "outputs": [
    {
     "name": "stdout",
     "output_type": "stream",
     "text": [
      "<class 'pandas.core.frame.DataFrame'>\n",
      "RangeIndex: 15000 entries, 0 to 14999\n",
      "Data columns (total 24 columns):\n",
      " #   Column               Non-Null Count  Dtype  \n",
      "---  ------               --------------  -----  \n",
      " 0   id                   15000 non-null  int64  \n",
      " 1   age                  15000 non-null  float64\n",
      " 2   height(cm)           15000 non-null  float64\n",
      " 3   weight(kg)           15000 non-null  float64\n",
      " 4   waist(cm)            15000 non-null  float64\n",
      " 5   eyesight(left)       15000 non-null  float64\n",
      " 6   eyesight(right)      15000 non-null  float64\n",
      " 7   hearing(left)        15000 non-null  float64\n",
      " 8   hearing(right)       15000 non-null  float64\n",
      " 9   systolic             15000 non-null  float64\n",
      " 10  relaxation           15000 non-null  float64\n",
      " 11  fasting blood sugar  15000 non-null  float64\n",
      " 12  Cholesterol          15000 non-null  float64\n",
      " 13  triglyceride         15000 non-null  float64\n",
      " 14  HDL                  15000 non-null  float64\n",
      " 15  LDL                  15000 non-null  float64\n",
      " 16  hemoglobin           15000 non-null  float64\n",
      " 17  Urine protein        15000 non-null  float64\n",
      " 18  serum creatinine     15000 non-null  float64\n",
      " 19  AST                  15000 non-null  float64\n",
      " 20  ALT                  15000 non-null  float64\n",
      " 21  Gtp                  15000 non-null  float64\n",
      " 22  dental caries        15000 non-null  float64\n",
      " 23  smoking              15000 non-null  float64\n",
      "dtypes: float64(23), int64(1)\n",
      "memory usage: 2.7 MB\n",
      "None\n"
     ]
    }
   ],
   "source": [
    "print(train.info())"
   ]
  },
  {
   "cell_type": "code",
   "execution_count": 7,
   "id": "63e554a2",
   "metadata": {},
   "outputs": [
    {
     "name": "stdout",
     "output_type": "stream",
     "text": [
      "                 id          age    height(cm)    weight(kg)    waist(cm)  \\\n",
      "count  15000.000000  15000.00000  15000.000000  15000.000000  15000.00000   \n",
      "mean    7499.500000     42.70100    164.658333     64.246733     80.26292   \n",
      "std     4330.271354     10.60395      8.624957     10.988147      7.89872   \n",
      "min        0.000000     20.00000    135.000000     40.000000     57.00000   \n",
      "25%     3749.750000     40.00000    160.000000     55.000000     75.00000   \n",
      "50%     7499.500000     40.00000    165.000000     65.000000     80.00000   \n",
      "75%    11249.250000     50.00000    170.000000     70.000000     86.00000   \n",
      "max    14999.000000     80.00000    190.000000    130.000000    121.00000   \n",
      "\n",
      "       eyesight(left)  eyesight(right)  hearing(left)  hearing(right)  \\\n",
      "count    15000.000000     15000.000000   15000.000000    15000.000000   \n",
      "mean         1.035840         1.024733       1.005600        1.004933   \n",
      "std          0.321701         0.285352       0.074626        0.070067   \n",
      "min          0.100000         0.100000       1.000000        1.000000   \n",
      "25%          0.800000         0.800000       1.000000        1.000000   \n",
      "50%          1.000000         1.000000       1.000000        1.000000   \n",
      "75%          1.200000         1.200000       1.000000        1.000000   \n",
      "max          9.900000         2.000000       2.000000        2.000000   \n",
      "\n",
      "           systolic  ...           HDL           LDL    hemoglobin  \\\n",
      "count  15000.000000  ...  15000.000000  15000.000000  15000.000000   \n",
      "mean     119.093267  ...     57.523667    113.075467     14.501933   \n",
      "std       11.158766  ...     11.426613     18.538335      1.395348   \n",
      "min       83.000000  ...     27.000000     16.000000      6.100000   \n",
      "25%      110.000000  ...     49.000000    100.000000     13.500000   \n",
      "50%      119.000000  ...     56.000000    112.000000     14.700000   \n",
      "75%      128.000000  ...     65.000000    126.000000     15.600000   \n",
      "max      174.000000  ...    104.000000    197.000000     18.500000   \n",
      "\n",
      "       Urine protein  serum creatinine           AST           ALT  \\\n",
      "count   15000.000000      15000.000000  15000.000000  15000.000000   \n",
      "mean        1.017533          0.866420     22.151467     20.647667   \n",
      "std         0.165008          0.167038      5.640790      9.965287   \n",
      "min         1.000000          0.400000      9.000000      4.000000   \n",
      "25%         1.000000          0.800000     18.000000     14.000000   \n",
      "50%         1.000000          0.900000     21.000000     18.000000   \n",
      "75%         1.000000          1.000000     25.000000     24.000000   \n",
      "max         4.000000          1.500000    114.000000    130.000000   \n",
      "\n",
      "                Gtp  dental caries       smoking  \n",
      "count  15000.000000   15000.000000  15000.000000  \n",
      "mean      25.940400       0.141600      0.370800  \n",
      "std       18.175938       0.348651      0.483035  \n",
      "min        6.000000       0.000000      0.000000  \n",
      "25%       15.000000       0.000000      0.000000  \n",
      "50%       21.000000       0.000000      0.000000  \n",
      "75%       30.000000       0.000000      1.000000  \n",
      "max      347.000000       1.000000      1.000000  \n",
      "\n",
      "[8 rows x 24 columns]\n"
     ]
    }
   ],
   "source": [
    "print(train.describe())"
   ]
  },
  {
   "cell_type": "code",
   "execution_count": 15,
   "id": "b3a702b1",
   "metadata": {},
   "outputs": [],
   "source": [
    "null_check=pd.isnull(train).sum()"
   ]
  },
  {
   "cell_type": "code",
   "execution_count": 16,
   "id": "12ef2cf7",
   "metadata": {},
   "outputs": [
    {
     "data": {
      "text/plain": [
       "id                     0\n",
       "age                    0\n",
       "height(cm)             0\n",
       "weight(kg)             0\n",
       "waist(cm)              0\n",
       "eyesight(left)         0\n",
       "eyesight(right)        0\n",
       "hearing(left)          0\n",
       "hearing(right)         0\n",
       "systolic               0\n",
       "relaxation             0\n",
       "fasting blood sugar    0\n",
       "Cholesterol            0\n",
       "triglyceride           0\n",
       "HDL                    0\n",
       "LDL                    0\n",
       "hemoglobin             0\n",
       "Urine protein          0\n",
       "serum creatinine       0\n",
       "AST                    0\n",
       "ALT                    0\n",
       "Gtp                    0\n",
       "dental caries          0\n",
       "smoking                0\n",
       "dtype: int64"
      ]
     },
     "execution_count": 16,
     "metadata": {},
     "output_type": "execute_result"
    }
   ],
   "source": [
    "null_check"
   ]
  },
  {
   "cell_type": "code",
   "execution_count": 40,
   "id": "9e9bada8",
   "metadata": {},
   "outputs": [
    {
     "name": "stdout",
     "output_type": "stream",
     "text": [
      "smoking\n",
      "0.0    9438\n",
      "1.0    5562\n",
      "Name: count, dtype: int64\n"
     ]
    },
    {
     "data": {
      "image/png": "[encoded data removed]",
      "text/plain": [
       "<Figure size 640x480 with 1 Axes>"
      ]
     },
     "metadata": {},
     "output_type": "display_data"
    }
   ],
   "source": [
    "print(train['smoking'].value_counts())\n",
    "sns.countplot(data=train, x='smoking')\n",
    "plt.title(\"Target Class Distribution\")\n",
    "plt.show()"
   ]
  },
  {
   "cell_type": "code",
   "execution_count": 19,
   "id": "5f49ae04",
   "metadata": {},
   "outputs": [],
   "source": [
    "X = train.drop(columns=['id', 'smoking'])\n",
    "y = train['smoking']\n",
    "X_test = test.drop(columns=['id'])"
   ]
  },
  {
   "cell_type": "code",
   "execution_count": 20,
   "id": "86cdcd1e",
   "metadata": {},
   "outputs": [
    {
     "data": {
      "text/html": [
       "<div>\n",
       "<style scoped>\n",
       "    .dataframe tbody tr th:only-of-type {\n",
       "        vertical-align: middle;\n",
       "    }\n",
       "\n",
       "    .dataframe tbody tr th {\n",
       "        vertical-align: top;\n",
       "    }\n",
       "\n",
       "    .dataframe thead th {\n",
       "        text-align: right;\n",
       "    }\n",
       "</style>\n",
       "<table border=\"1\" class=\"dataframe\">\n",
       "  <thead>\n",
       "    <tr style=\"text-align: right;\">\n",
       "      <th></th>\n",
       "      <th>age</th>\n",
       "      <th>height(cm)</th>\n",
       "      <th>weight(kg)</th>\n",
       "      <th>waist(cm)</th>\n",
       "      <th>eyesight(left)</th>\n",
       "      <th>eyesight(right)</th>\n",
       "      <th>hearing(left)</th>\n",
       "      <th>hearing(right)</th>\n",
       "      <th>systolic</th>\n",
       "      <th>relaxation</th>\n",
       "      <th>...</th>\n",
       "      <th>triglyceride</th>\n",
       "      <th>HDL</th>\n",
       "      <th>LDL</th>\n",
       "      <th>hemoglobin</th>\n",
       "      <th>Urine protein</th>\n",
       "      <th>serum creatinine</th>\n",
       "      <th>AST</th>\n",
       "      <th>ALT</th>\n",
       "      <th>Gtp</th>\n",
       "      <th>dental caries</th>\n",
       "    </tr>\n",
       "  </thead>\n",
       "  <tbody>\n",
       "    <tr>\n",
       "      <th>0</th>\n",
       "      <td>40.0</td>\n",
       "      <td>165.0</td>\n",
       "      <td>55.0</td>\n",
       "      <td>70.0</td>\n",
       "      <td>1.5</td>\n",
       "      <td>1.2</td>\n",
       "      <td>1.0</td>\n",
       "      <td>1.0</td>\n",
       "      <td>113.0</td>\n",
       "      <td>63.0</td>\n",
       "      <td>...</td>\n",
       "      <td>75.0</td>\n",
       "      <td>72.0</td>\n",
       "      <td>91.0</td>\n",
       "      <td>13.0</td>\n",
       "      <td>1.0</td>\n",
       "      <td>0.6</td>\n",
       "      <td>19.0</td>\n",
       "      <td>11.0</td>\n",
       "      <td>10.0</td>\n",
       "      <td>1.0</td>\n",
       "    </tr>\n",
       "    <tr>\n",
       "      <th>1</th>\n",
       "      <td>45.0</td>\n",
       "      <td>155.0</td>\n",
       "      <td>60.0</td>\n",
       "      <td>92.5</td>\n",
       "      <td>1.0</td>\n",
       "      <td>1.0</td>\n",
       "      <td>1.0</td>\n",
       "      <td>1.0</td>\n",
       "      <td>124.0</td>\n",
       "      <td>80.0</td>\n",
       "      <td>...</td>\n",
       "      <td>93.0</td>\n",
       "      <td>51.0</td>\n",
       "      <td>108.0</td>\n",
       "      <td>13.8</td>\n",
       "      <td>1.0</td>\n",
       "      <td>0.8</td>\n",
       "      <td>16.0</td>\n",
       "      <td>17.0</td>\n",
       "      <td>17.0</td>\n",
       "      <td>0.0</td>\n",
       "    </tr>\n",
       "    <tr>\n",
       "      <th>2</th>\n",
       "      <td>50.0</td>\n",
       "      <td>175.0</td>\n",
       "      <td>65.0</td>\n",
       "      <td>81.0</td>\n",
       "      <td>1.2</td>\n",
       "      <td>1.2</td>\n",
       "      <td>1.0</td>\n",
       "      <td>1.0</td>\n",
       "      <td>120.0</td>\n",
       "      <td>70.0</td>\n",
       "      <td>...</td>\n",
       "      <td>79.0</td>\n",
       "      <td>46.0</td>\n",
       "      <td>118.0</td>\n",
       "      <td>14.7</td>\n",
       "      <td>1.0</td>\n",
       "      <td>0.8</td>\n",
       "      <td>19.0</td>\n",
       "      <td>16.0</td>\n",
       "      <td>19.0</td>\n",
       "      <td>0.0</td>\n",
       "    </tr>\n",
       "    <tr>\n",
       "      <th>3</th>\n",
       "      <td>40.0</td>\n",
       "      <td>160.0</td>\n",
       "      <td>60.0</td>\n",
       "      <td>76.0</td>\n",
       "      <td>1.0</td>\n",
       "      <td>1.0</td>\n",
       "      <td>1.0</td>\n",
       "      <td>1.0</td>\n",
       "      <td>115.0</td>\n",
       "      <td>76.0</td>\n",
       "      <td>...</td>\n",
       "      <td>107.0</td>\n",
       "      <td>46.0</td>\n",
       "      <td>138.0</td>\n",
       "      <td>12.5</td>\n",
       "      <td>1.0</td>\n",
       "      <td>0.6</td>\n",
       "      <td>20.0</td>\n",
       "      <td>14.0</td>\n",
       "      <td>13.0</td>\n",
       "      <td>0.0</td>\n",
       "    </tr>\n",
       "    <tr>\n",
       "      <th>4</th>\n",
       "      <td>20.0</td>\n",
       "      <td>170.0</td>\n",
       "      <td>65.0</td>\n",
       "      <td>74.0</td>\n",
       "      <td>1.0</td>\n",
       "      <td>1.2</td>\n",
       "      <td>1.0</td>\n",
       "      <td>1.0</td>\n",
       "      <td>129.0</td>\n",
       "      <td>82.0</td>\n",
       "      <td>...</td>\n",
       "      <td>53.0</td>\n",
       "      <td>51.0</td>\n",
       "      <td>121.0</td>\n",
       "      <td>14.7</td>\n",
       "      <td>1.0</td>\n",
       "      <td>0.9</td>\n",
       "      <td>20.0</td>\n",
       "      <td>13.0</td>\n",
       "      <td>18.0</td>\n",
       "      <td>0.0</td>\n",
       "    </tr>\n",
       "    <tr>\n",
       "      <th>...</th>\n",
       "      <td>...</td>\n",
       "      <td>...</td>\n",
       "      <td>...</td>\n",
       "      <td>...</td>\n",
       "      <td>...</td>\n",
       "      <td>...</td>\n",
       "      <td>...</td>\n",
       "      <td>...</td>\n",
       "      <td>...</td>\n",
       "      <td>...</td>\n",
       "      <td>...</td>\n",
       "      <td>...</td>\n",
       "      <td>...</td>\n",
       "      <td>...</td>\n",
       "      <td>...</td>\n",
       "      <td>...</td>\n",
       "      <td>...</td>\n",
       "      <td>...</td>\n",
       "      <td>...</td>\n",
       "      <td>...</td>\n",
       "      <td>...</td>\n",
       "    </tr>\n",
       "    <tr>\n",
       "      <th>9995</th>\n",
       "      <td>50.0</td>\n",
       "      <td>160.0</td>\n",
       "      <td>55.0</td>\n",
       "      <td>68.0</td>\n",
       "      <td>0.7</td>\n",
       "      <td>0.5</td>\n",
       "      <td>1.0</td>\n",
       "      <td>1.0</td>\n",
       "      <td>134.0</td>\n",
       "      <td>74.0</td>\n",
       "      <td>...</td>\n",
       "      <td>102.0</td>\n",
       "      <td>50.0</td>\n",
       "      <td>110.0</td>\n",
       "      <td>12.5</td>\n",
       "      <td>1.0</td>\n",
       "      <td>0.7</td>\n",
       "      <td>21.0</td>\n",
       "      <td>17.0</td>\n",
       "      <td>14.0</td>\n",
       "      <td>1.0</td>\n",
       "    </tr>\n",
       "    <tr>\n",
       "      <th>9996</th>\n",
       "      <td>40.0</td>\n",
       "      <td>175.0</td>\n",
       "      <td>65.0</td>\n",
       "      <td>78.0</td>\n",
       "      <td>1.2</td>\n",
       "      <td>1.2</td>\n",
       "      <td>1.0</td>\n",
       "      <td>1.0</td>\n",
       "      <td>124.0</td>\n",
       "      <td>77.0</td>\n",
       "      <td>...</td>\n",
       "      <td>79.0</td>\n",
       "      <td>60.0</td>\n",
       "      <td>127.0</td>\n",
       "      <td>15.1</td>\n",
       "      <td>1.0</td>\n",
       "      <td>0.9</td>\n",
       "      <td>21.0</td>\n",
       "      <td>17.0</td>\n",
       "      <td>31.0</td>\n",
       "      <td>0.0</td>\n",
       "    </tr>\n",
       "    <tr>\n",
       "      <th>9997</th>\n",
       "      <td>50.0</td>\n",
       "      <td>155.0</td>\n",
       "      <td>50.0</td>\n",
       "      <td>73.0</td>\n",
       "      <td>1.0</td>\n",
       "      <td>1.2</td>\n",
       "      <td>1.0</td>\n",
       "      <td>1.0</td>\n",
       "      <td>109.0</td>\n",
       "      <td>60.0</td>\n",
       "      <td>...</td>\n",
       "      <td>75.0</td>\n",
       "      <td>83.0</td>\n",
       "      <td>124.0</td>\n",
       "      <td>13.0</td>\n",
       "      <td>2.0</td>\n",
       "      <td>0.6</td>\n",
       "      <td>20.0</td>\n",
       "      <td>13.0</td>\n",
       "      <td>11.0</td>\n",
       "      <td>0.0</td>\n",
       "    </tr>\n",
       "    <tr>\n",
       "      <th>9998</th>\n",
       "      <td>40.0</td>\n",
       "      <td>160.0</td>\n",
       "      <td>50.0</td>\n",
       "      <td>70.0</td>\n",
       "      <td>1.5</td>\n",
       "      <td>1.5</td>\n",
       "      <td>1.0</td>\n",
       "      <td>1.0</td>\n",
       "      <td>96.0</td>\n",
       "      <td>61.0</td>\n",
       "      <td>...</td>\n",
       "      <td>98.0</td>\n",
       "      <td>64.0</td>\n",
       "      <td>127.0</td>\n",
       "      <td>14.0</td>\n",
       "      <td>1.0</td>\n",
       "      <td>0.9</td>\n",
       "      <td>25.0</td>\n",
       "      <td>16.0</td>\n",
       "      <td>27.0</td>\n",
       "      <td>0.0</td>\n",
       "    </tr>\n",
       "    <tr>\n",
       "      <th>9999</th>\n",
       "      <td>40.0</td>\n",
       "      <td>165.0</td>\n",
       "      <td>65.0</td>\n",
       "      <td>79.0</td>\n",
       "      <td>1.0</td>\n",
       "      <td>1.0</td>\n",
       "      <td>1.0</td>\n",
       "      <td>1.0</td>\n",
       "      <td>120.0</td>\n",
       "      <td>80.0</td>\n",
       "      <td>...</td>\n",
       "      <td>79.0</td>\n",
       "      <td>48.0</td>\n",
       "      <td>84.0</td>\n",
       "      <td>15.5</td>\n",
       "      <td>1.0</td>\n",
       "      <td>1.0</td>\n",
       "      <td>15.0</td>\n",
       "      <td>9.0</td>\n",
       "      <td>17.0</td>\n",
       "      <td>0.0</td>\n",
       "    </tr>\n",
       "  </tbody>\n",
       "</table>\n",
       "<p>10000 rows × 22 columns</p>\n",
       "</div>"
      ],
      "text/plain": [
       "       age  height(cm)  weight(kg)  waist(cm)  eyesight(left)  \\\n",
       "0     40.0       165.0        55.0       70.0             1.5   \n",
       "1     45.0       155.0        60.0       92.5             1.0   \n",
       "2     50.0       175.0        65.0       81.0             1.2   \n",
       "3     40.0       160.0        60.0       76.0             1.0   \n",
       "4     20.0       170.0        65.0       74.0             1.0   \n",
       "...    ...         ...         ...        ...             ...   \n",
       "9995  50.0       160.0        55.0       68.0             0.7   \n",
       "9996  40.0       175.0        65.0       78.0             1.2   \n",
       "9997  50.0       155.0        50.0       73.0             1.0   \n",
       "9998  40.0       160.0        50.0       70.0             1.5   \n",
       "9999  40.0       165.0        65.0       79.0             1.0   \n",
       "\n",
       "      eyesight(right)  hearing(left)  hearing(right)  systolic  relaxation  \\\n",
       "0                 1.2            1.0             1.0     113.0        63.0   \n",
       "1                 1.0            1.0             1.0     124.0        80.0   \n",
       "2                 1.2            1.0             1.0     120.0        70.0   \n",
       "3                 1.0            1.0             1.0     115.0        76.0   \n",
       "4                 1.2            1.0             1.0     129.0        82.0   \n",
       "...               ...            ...             ...       ...         ...   \n",
       "9995              0.5            1.0             1.0     134.0        74.0   \n",
       "9996              1.2            1.0             1.0     124.0        77.0   \n",
       "9997              1.2            1.0             1.0     109.0        60.0   \n",
       "9998              1.5            1.0             1.0      96.0        61.0   \n",
       "9999              1.0            1.0             1.0     120.0        80.0   \n",
       "\n",
       "      ...  triglyceride   HDL    LDL  hemoglobin  Urine protein  \\\n",
       "0     ...          75.0  72.0   91.0        13.0            1.0   \n",
       "1     ...          93.0  51.0  108.0        13.8            1.0   \n",
       "2     ...          79.0  46.0  118.0        14.7            1.0   \n",
       "3     ...         107.0  46.0  138.0        12.5            1.0   \n",
       "4     ...          53.0  51.0  121.0        14.7            1.0   \n",
       "...   ...           ...   ...    ...         ...            ...   \n",
       "9995  ...         102.0  50.0  110.0        12.5            1.0   \n",
       "9996  ...          79.0  60.0  127.0        15.1            1.0   \n",
       "9997  ...          75.0  83.0  124.0        13.0            2.0   \n",
       "9998  ...          98.0  64.0  127.0        14.0            1.0   \n",
       "9999  ...          79.0  48.0   84.0        15.5            1.0   \n",
       "\n",
       "      serum creatinine   AST   ALT   Gtp  dental caries  \n",
       "0                  0.6  19.0  11.0  10.0            1.0  \n",
       "1                  0.8  16.0  17.0  17.0            0.0  \n",
       "2                  0.8  19.0  16.0  19.0            0.0  \n",
       "3                  0.6  20.0  14.0  13.0            0.0  \n",
       "4                  0.9  20.0  13.0  18.0            0.0  \n",
       "...                ...   ...   ...   ...            ...  \n",
       "9995               0.7  21.0  17.0  14.0            1.0  \n",
       "9996               0.9  21.0  17.0  31.0            0.0  \n",
       "9997               0.6  20.0  13.0  11.0            0.0  \n",
       "9998               0.9  25.0  16.0  27.0            0.0  \n",
       "9999               1.0  15.0   9.0  17.0            0.0  \n",
       "\n",
       "[10000 rows x 22 columns]"
      ]
     },
     "execution_count": 20,
     "metadata": {},
     "output_type": "execute_result"
    }
   ],
   "source": [
    "X_test"
   ]
  },
  {
   "cell_type": "code",
   "execution_count": 21,
   "id": "56b62768",
   "metadata": {},
   "outputs": [],
   "source": [
    "scaler = StandardScaler()\n",
    "X_scaled = scaler.fit_transform(X)\n",
    "X_test_scaled = scaler.transform(X_test)"
   ]
  },
  {
   "cell_type": "markdown",
   "id": "84836561",
   "metadata": {},
   "source": [
    "Model Training & Evaluation"
   ]
  },
  {
   "cell_type": "code",
   "execution_count": 23,
   "id": "78f9cdcf",
   "metadata": {},
   "outputs": [],
   "source": [
    "from sklearn.ensemble import RandomForestClassifier\n",
    "from sklearn.metrics import roc_auc_score, classification_report, confusion_matrix, roc_curve, auc\n",
    "from sklearn.model_selection import train_test_split"
   ]
  },
  {
   "cell_type": "code",
   "execution_count": 24,
   "id": "e2cc5af6",
   "metadata": {},
   "outputs": [],
   "source": [
    "X_train, X_val, y_train, y_val = train_test_split(X_scaled, y, test_size=0.2, random_state=42)"
   ]
  },
  {
   "cell_type": "code",
   "execution_count": 25,
   "id": "3518b755",
   "metadata": {},
   "outputs": [],
   "source": [
    "model = RandomForestClassifier(n_estimators=200, random_state=42)\n",
    "model.fit(X_train, y_train)\n",
    "y_pred_proba = model.predict_proba(X_val)[:,1]"
   ]
  },
  {
   "cell_type": "code",
   "execution_count": 26,
   "id": "b0a8205c",
   "metadata": {},
   "outputs": [
    {
     "name": "stdout",
     "output_type": "stream",
     "text": [
      "AUC-ROC: 0.8819289513918331\n"
     ]
    }
   ],
   "source": [
    "print(\"AUC-ROC:\", roc_auc_score(y_val, y_pred_proba))"
   ]
  },
  {
   "cell_type": "code",
   "execution_count": 32,
   "id": "24c476da",
   "metadata": {},
   "outputs": [],
   "source": [
    "import lightgbm as lgb"
   ]
  },
  {
   "cell_type": "code",
   "execution_count": 33,
   "id": "88ed8ea3",
   "metadata": {},
   "outputs": [
    {
     "name": "stdout",
     "output_type": "stream",
     "text": [
      "[LightGBM] [Info] Number of positive: 4468, number of negative: 7532\n",
      "[LightGBM] [Info] Auto-choosing row-wise multi-threading, the overhead of testing was 0.001055 seconds.\n",
      "You can set `force_row_wise=true` to remove the overhead.\n",
      "And if memory is not enough, you can set `force_col_wise=true`.\n",
      "[LightGBM] [Info] Total Bins 1460\n",
      "[LightGBM] [Info] Number of data points in the train set: 12000, number of used features: 22\n",
      "[LightGBM] [Info] [binary:BoostFromScore]: pavg=0.372333 -> initscore=-0.522220\n",
      "[LightGBM] [Info] Start training from score -0.522220\n"
     ]
    }
   ],
   "source": [
    "lgb_model = lgb.LGBMClassifier(n_estimators=500, learning_rate=0.03)\n",
    "lgb_model.fit(X_train, y_train)\n",
    "y_pred_proba = lgb_model.predict_proba(X_val)[:,1]"
   ]
  },
  {
   "cell_type": "code",
   "execution_count": 34,
   "id": "459b5e8a",
   "metadata": {},
   "outputs": [
    {
     "name": "stdout",
     "output_type": "stream",
     "text": [
      "AUC-ROC: 0.8865700731453259\n"
     ]
    }
   ],
   "source": [
    "print(\"AUC-ROC:\", roc_auc_score(y_val, y_pred_proba))"
   ]
  },
  {
   "cell_type": "code",
   "execution_count": 35,
   "id": "4f8e4ace",
   "metadata": {},
   "outputs": [],
   "source": [
    "test_probs = lgb_model.predict_proba(X_test_scaled)[:,1]"
   ]
  },
  {
   "cell_type": "code",
   "execution_count": 36,
   "id": "45a2c34d",
   "metadata": {},
   "outputs": [
    {
     "data": {
      "text/plain": [
       "array([0.01865444, 0.03457157, 0.5308156 , ..., 0.00239783, 0.13586246,\n",
       "       0.76924224])"
      ]
     },
     "execution_count": 36,
     "metadata": {},
     "output_type": "execute_result"
    }
   ],
   "source": [
    "test_probs"
   ]
  },
  {
   "cell_type": "code",
   "execution_count": 42,
   "id": "b960917e",
   "metadata": {},
   "outputs": [
    {
     "name": "stdout",
     "output_type": "stream",
     "text": [
      "Validation AUC-ROC Score: 0.8819\n"
     ]
    }
   ],
   "source": [
    "y_val_pred = model.predict_proba(X_val)[:, 1]\n",
    "auc_score = roc_auc_score(y_val, y_val_pred)\n",
    "print(f\"Validation AUC-ROC Score: {auc_score:.4f}\")"
   ]
  },
  {
   "cell_type": "code",
   "execution_count": 43,
   "id": "4fe0fecd",
   "metadata": {},
   "outputs": [
    {
     "data": {
      "image/png": "[encoded data removed]",
      "text/plain": [
       "<Figure size 800x600 with 1 Axes>"
      ]
     },
     "metadata": {},
     "output_type": "display_data"
    }
   ],
   "source": [
    "fpr, tpr, thresholds = roc_curve(y_val, y_val_pred)\n",
    "plt.figure(figsize=(8,6))\n",
    "plt.plot(fpr, tpr, label=f'AUC = {auc_score:.4f}')\n",
    "plt.plot([0, 1], [0, 1], '--', color='gray')\n",
    "plt.xlabel('False Positive Rate')\n",
    "plt.ylabel('True Positive Rate')\n",
    "plt.title('ROC Curve')\n",
    "plt.legend()\n",
    "plt.grid()\n",
    "plt.show()"
   ]
  },
  {
   "cell_type": "code",
   "execution_count": 37,
   "id": "7ce2edee",
   "metadata": {},
   "outputs": [],
   "source": [
    "import matplotlib.pyplot as plt\n",
    "import seaborn as sns"
   ]
  },
  {
   "cell_type": "code",
   "execution_count": 38,
   "id": "52a964b0",
   "metadata": {},
   "outputs": [],
   "source": [
    "importances = lgb_model.feature_importances_\n",
    "feat_names = X.columns"
   ]
  },
  {
   "cell_type": "code",
   "execution_count": 39,
   "id": "9134d340",
   "metadata": {},
   "outputs": [
    {
     "data": {
      "image/png": "[encoded data removed]",
      "text/plain": [
       "<Figure size 1200x600 with 1 Axes>"
      ]
     },
     "metadata": {},
     "output_type": "display_data"
    }
   ],
   "source": [
    "plt.figure(figsize=(12,6))\n",
    "sns.barplot(x=importances, y=feat_names)\n",
    "plt.title(\"Feature Importances\")\n",
    "plt.show()"
   ]
  },
  {
   "cell_type": "code",
   "execution_count": 45,
   "id": "01f1373a",
   "metadata": {},
   "outputs": [
    {
     "data": {
      "text/plain": [
       "['smoking_model.pkl']"
      ]
     },
     "execution_count": 45,
     "metadata": {},
     "output_type": "execute_result"
    }
   ],
   "source": [
    "import joblib\n",
    "joblib.dump(model, 'smoking_model.pkl')"
   ]
  },
  {
   "cell_type": "code",
   "execution_count": 47,
   "id": "cd683085",
   "metadata": {},
   "outputs": [],
   "source": [
    "import numpy as np\n",
    "np.save(\"train_scaler_data.npy\", X)"
   ]
  },
  {
   "cell_type": "code",
   "execution_count": null,
   "id": "e676e1f3",
   "metadata": {},
   "outputs": [],
   "source": []
  }
 ],
 "metadata": {
  "kernelspec": {
   "display_name": "Python 3 (ipykernel)",
   "language": "python",
   "name": "python3"
  },
  "language_info": {
   "codemirror_mode": {
    "name": "ipython",
    "version": 3
   },
   "file_extension": ".py",
   "mimetype": "text/x-python",
   "name": "python",
   "nbconvert_exporter": "python",
   "pygments_lexer": "ipython3",
   "version": "3.11.5"
  }
 },
 "nbformat": 4,
 "nbformat_minor": 5
}
